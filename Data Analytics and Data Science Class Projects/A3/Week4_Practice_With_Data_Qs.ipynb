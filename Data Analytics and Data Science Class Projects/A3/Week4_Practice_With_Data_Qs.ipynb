{
 "cells": [
  {
   "cell_type": "code",
   "execution_count": 1,
   "id": "9a1ccb41-d14d-4828-bd52-0dfa314a54a3",
   "metadata": {},
   "outputs": [],
   "source": [
    "# import relevant modules\n",
    "import pandas as pd\n",
    "import seaborn as sn\n",
    "import matplotlib.pyplot as plt\n",
    "import numpy as np"
   ]
  },
  {
   "cell_type": "code",
   "execution_count": 23,
   "id": "80b09a15-728f-4a20-af1f-0a52cbccfc82",
   "metadata": {},
   "outputs": [],
   "source": [
    "# load 2019 taxi trip data collected by NYC Taxi and Limousine Commission (TLC) into a pandas dataframe\n",
    "taxis = sn.load_dataset(\"taxis\")"
   ]
  },
  {
   "cell_type": "code",
   "execution_count": 24,
   "id": "208697f5-14a6-4246-9241-1608379c52a5",
   "metadata": {},
   "outputs": [
    {
     "data": {
      "text/html": [
       "<div>\n",
       "<style scoped>\n",
       "    .dataframe tbody tr th:only-of-type {\n",
       "        vertical-align: middle;\n",
       "    }\n",
       "\n",
       "    .dataframe tbody tr th {\n",
       "        vertical-align: top;\n",
       "    }\n",
       "\n",
       "    .dataframe thead th {\n",
       "        text-align: right;\n",
       "    }\n",
       "</style>\n",
       "<table border=\"1\" class=\"dataframe\">\n",
       "  <thead>\n",
       "    <tr style=\"text-align: right;\">\n",
       "      <th></th>\n",
       "      <th>pickup</th>\n",
       "      <th>dropoff</th>\n",
       "      <th>passengers</th>\n",
       "      <th>distance</th>\n",
       "      <th>fare</th>\n",
       "      <th>tip</th>\n",
       "      <th>tolls</th>\n",
       "      <th>total</th>\n",
       "      <th>color</th>\n",
       "      <th>payment</th>\n",
       "      <th>pickup_zone</th>\n",
       "      <th>dropoff_zone</th>\n",
       "      <th>pickup_borough</th>\n",
       "      <th>dropoff_borough</th>\n",
       "    </tr>\n",
       "  </thead>\n",
       "  <tbody>\n",
       "    <tr>\n",
       "      <th>0</th>\n",
       "      <td>2019-03-23 20:21:09</td>\n",
       "      <td>2019-03-23 20:27:24</td>\n",
       "      <td>1</td>\n",
       "      <td>1.60</td>\n",
       "      <td>7.0</td>\n",
       "      <td>2.15</td>\n",
       "      <td>0.0</td>\n",
       "      <td>12.95</td>\n",
       "      <td>yellow</td>\n",
       "      <td>credit card</td>\n",
       "      <td>Lenox Hill West</td>\n",
       "      <td>UN/Turtle Bay South</td>\n",
       "      <td>Manhattan</td>\n",
       "      <td>Manhattan</td>\n",
       "    </tr>\n",
       "    <tr>\n",
       "      <th>1</th>\n",
       "      <td>2019-03-04 16:11:55</td>\n",
       "      <td>2019-03-04 16:19:00</td>\n",
       "      <td>1</td>\n",
       "      <td>0.79</td>\n",
       "      <td>5.0</td>\n",
       "      <td>0.00</td>\n",
       "      <td>0.0</td>\n",
       "      <td>9.30</td>\n",
       "      <td>yellow</td>\n",
       "      <td>cash</td>\n",
       "      <td>Upper West Side South</td>\n",
       "      <td>Upper West Side South</td>\n",
       "      <td>Manhattan</td>\n",
       "      <td>Manhattan</td>\n",
       "    </tr>\n",
       "    <tr>\n",
       "      <th>2</th>\n",
       "      <td>2019-03-27 17:53:01</td>\n",
       "      <td>2019-03-27 18:00:25</td>\n",
       "      <td>1</td>\n",
       "      <td>1.37</td>\n",
       "      <td>7.5</td>\n",
       "      <td>2.36</td>\n",
       "      <td>0.0</td>\n",
       "      <td>14.16</td>\n",
       "      <td>yellow</td>\n",
       "      <td>credit card</td>\n",
       "      <td>Alphabet City</td>\n",
       "      <td>West Village</td>\n",
       "      <td>Manhattan</td>\n",
       "      <td>Manhattan</td>\n",
       "    </tr>\n",
       "    <tr>\n",
       "      <th>3</th>\n",
       "      <td>2019-03-10 01:23:59</td>\n",
       "      <td>2019-03-10 01:49:51</td>\n",
       "      <td>1</td>\n",
       "      <td>7.70</td>\n",
       "      <td>27.0</td>\n",
       "      <td>6.15</td>\n",
       "      <td>0.0</td>\n",
       "      <td>36.95</td>\n",
       "      <td>yellow</td>\n",
       "      <td>credit card</td>\n",
       "      <td>Hudson Sq</td>\n",
       "      <td>Yorkville West</td>\n",
       "      <td>Manhattan</td>\n",
       "      <td>Manhattan</td>\n",
       "    </tr>\n",
       "    <tr>\n",
       "      <th>4</th>\n",
       "      <td>2019-03-30 13:27:42</td>\n",
       "      <td>2019-03-30 13:37:14</td>\n",
       "      <td>3</td>\n",
       "      <td>2.16</td>\n",
       "      <td>9.0</td>\n",
       "      <td>1.10</td>\n",
       "      <td>0.0</td>\n",
       "      <td>13.40</td>\n",
       "      <td>yellow</td>\n",
       "      <td>credit card</td>\n",
       "      <td>Midtown East</td>\n",
       "      <td>Yorkville West</td>\n",
       "      <td>Manhattan</td>\n",
       "      <td>Manhattan</td>\n",
       "    </tr>\n",
       "    <tr>\n",
       "      <th>...</th>\n",
       "      <td>...</td>\n",
       "      <td>...</td>\n",
       "      <td>...</td>\n",
       "      <td>...</td>\n",
       "      <td>...</td>\n",
       "      <td>...</td>\n",
       "      <td>...</td>\n",
       "      <td>...</td>\n",
       "      <td>...</td>\n",
       "      <td>...</td>\n",
       "      <td>...</td>\n",
       "      <td>...</td>\n",
       "      <td>...</td>\n",
       "      <td>...</td>\n",
       "    </tr>\n",
       "    <tr>\n",
       "      <th>6428</th>\n",
       "      <td>2019-03-31 09:51:53</td>\n",
       "      <td>2019-03-31 09:55:27</td>\n",
       "      <td>1</td>\n",
       "      <td>0.75</td>\n",
       "      <td>4.5</td>\n",
       "      <td>1.06</td>\n",
       "      <td>0.0</td>\n",
       "      <td>6.36</td>\n",
       "      <td>green</td>\n",
       "      <td>credit card</td>\n",
       "      <td>East Harlem North</td>\n",
       "      <td>Central Harlem North</td>\n",
       "      <td>Manhattan</td>\n",
       "      <td>Manhattan</td>\n",
       "    </tr>\n",
       "    <tr>\n",
       "      <th>6429</th>\n",
       "      <td>2019-03-31 17:38:00</td>\n",
       "      <td>2019-03-31 18:34:23</td>\n",
       "      <td>1</td>\n",
       "      <td>18.74</td>\n",
       "      <td>58.0</td>\n",
       "      <td>0.00</td>\n",
       "      <td>0.0</td>\n",
       "      <td>58.80</td>\n",
       "      <td>green</td>\n",
       "      <td>credit card</td>\n",
       "      <td>Jamaica</td>\n",
       "      <td>East Concourse/Concourse Village</td>\n",
       "      <td>Queens</td>\n",
       "      <td>Bronx</td>\n",
       "    </tr>\n",
       "    <tr>\n",
       "      <th>6430</th>\n",
       "      <td>2019-03-23 22:55:18</td>\n",
       "      <td>2019-03-23 23:14:25</td>\n",
       "      <td>1</td>\n",
       "      <td>4.14</td>\n",
       "      <td>16.0</td>\n",
       "      <td>0.00</td>\n",
       "      <td>0.0</td>\n",
       "      <td>17.30</td>\n",
       "      <td>green</td>\n",
       "      <td>cash</td>\n",
       "      <td>Crown Heights North</td>\n",
       "      <td>Bushwick North</td>\n",
       "      <td>Brooklyn</td>\n",
       "      <td>Brooklyn</td>\n",
       "    </tr>\n",
       "    <tr>\n",
       "      <th>6431</th>\n",
       "      <td>2019-03-04 10:09:25</td>\n",
       "      <td>2019-03-04 10:14:29</td>\n",
       "      <td>1</td>\n",
       "      <td>1.12</td>\n",
       "      <td>6.0</td>\n",
       "      <td>0.00</td>\n",
       "      <td>0.0</td>\n",
       "      <td>6.80</td>\n",
       "      <td>green</td>\n",
       "      <td>credit card</td>\n",
       "      <td>East New York</td>\n",
       "      <td>East Flatbush/Remsen Village</td>\n",
       "      <td>Brooklyn</td>\n",
       "      <td>Brooklyn</td>\n",
       "    </tr>\n",
       "    <tr>\n",
       "      <th>6432</th>\n",
       "      <td>2019-03-13 19:31:22</td>\n",
       "      <td>2019-03-13 19:48:02</td>\n",
       "      <td>1</td>\n",
       "      <td>3.85</td>\n",
       "      <td>15.0</td>\n",
       "      <td>3.36</td>\n",
       "      <td>0.0</td>\n",
       "      <td>20.16</td>\n",
       "      <td>green</td>\n",
       "      <td>credit card</td>\n",
       "      <td>Boerum Hill</td>\n",
       "      <td>Windsor Terrace</td>\n",
       "      <td>Brooklyn</td>\n",
       "      <td>Brooklyn</td>\n",
       "    </tr>\n",
       "  </tbody>\n",
       "</table>\n",
       "<p>6433 rows × 14 columns</p>\n",
       "</div>"
      ],
      "text/plain": [
       "                   pickup              dropoff  passengers  distance  fare  \\\n",
       "0     2019-03-23 20:21:09  2019-03-23 20:27:24           1      1.60   7.0   \n",
       "1     2019-03-04 16:11:55  2019-03-04 16:19:00           1      0.79   5.0   \n",
       "2     2019-03-27 17:53:01  2019-03-27 18:00:25           1      1.37   7.5   \n",
       "3     2019-03-10 01:23:59  2019-03-10 01:49:51           1      7.70  27.0   \n",
       "4     2019-03-30 13:27:42  2019-03-30 13:37:14           3      2.16   9.0   \n",
       "...                   ...                  ...         ...       ...   ...   \n",
       "6428  2019-03-31 09:51:53  2019-03-31 09:55:27           1      0.75   4.5   \n",
       "6429  2019-03-31 17:38:00  2019-03-31 18:34:23           1     18.74  58.0   \n",
       "6430  2019-03-23 22:55:18  2019-03-23 23:14:25           1      4.14  16.0   \n",
       "6431  2019-03-04 10:09:25  2019-03-04 10:14:29           1      1.12   6.0   \n",
       "6432  2019-03-13 19:31:22  2019-03-13 19:48:02           1      3.85  15.0   \n",
       "\n",
       "       tip  tolls  total   color      payment            pickup_zone  \\\n",
       "0     2.15    0.0  12.95  yellow  credit card        Lenox Hill West   \n",
       "1     0.00    0.0   9.30  yellow         cash  Upper West Side South   \n",
       "2     2.36    0.0  14.16  yellow  credit card          Alphabet City   \n",
       "3     6.15    0.0  36.95  yellow  credit card              Hudson Sq   \n",
       "4     1.10    0.0  13.40  yellow  credit card           Midtown East   \n",
       "...    ...    ...    ...     ...          ...                    ...   \n",
       "6428  1.06    0.0   6.36   green  credit card      East Harlem North   \n",
       "6429  0.00    0.0  58.80   green  credit card                Jamaica   \n",
       "6430  0.00    0.0  17.30   green         cash    Crown Heights North   \n",
       "6431  0.00    0.0   6.80   green  credit card          East New York   \n",
       "6432  3.36    0.0  20.16   green  credit card            Boerum Hill   \n",
       "\n",
       "                          dropoff_zone pickup_borough dropoff_borough  \n",
       "0                  UN/Turtle Bay South      Manhattan       Manhattan  \n",
       "1                Upper West Side South      Manhattan       Manhattan  \n",
       "2                         West Village      Manhattan       Manhattan  \n",
       "3                       Yorkville West      Manhattan       Manhattan  \n",
       "4                       Yorkville West      Manhattan       Manhattan  \n",
       "...                                ...            ...             ...  \n",
       "6428              Central Harlem North      Manhattan       Manhattan  \n",
       "6429  East Concourse/Concourse Village         Queens           Bronx  \n",
       "6430                    Bushwick North       Brooklyn        Brooklyn  \n",
       "6431      East Flatbush/Remsen Village       Brooklyn        Brooklyn  \n",
       "6432                   Windsor Terrace       Brooklyn        Brooklyn  \n",
       "\n",
       "[6433 rows x 14 columns]"
      ]
     },
     "execution_count": 24,
     "metadata": {},
     "output_type": "execute_result"
    }
   ],
   "source": [
    "# take a look at the dataset\n",
    "taxis"
   ]
  },
  {
   "cell_type": "markdown",
   "id": "f93bc765-fc54-4b64-9f9f-6d53e3d5e0ae",
   "metadata": {},
   "source": [
    "How many rows?"
   ]
  },
  {
   "cell_type": "code",
   "execution_count": 1,
   "id": "64562c4f-ff97-40bf-b4dc-8fc1543bd21b",
   "metadata": {},
   "outputs": [],
   "source": [
    "# Write code here"
   ]
  },
  {
   "cell_type": "markdown",
   "id": "7aa40615-f82e-466f-b56d-343afa1771cb",
   "metadata": {},
   "source": [
    "How many columns?"
   ]
  },
  {
   "cell_type": "code",
   "execution_count": 2,
   "id": "5ddd1860-f82a-4e04-8a17-05a895de8bdf",
   "metadata": {},
   "outputs": [],
   "source": [
    "# Write code here"
   ]
  },
  {
   "cell_type": "markdown",
   "id": "70bfae33-2232-4ba7-8ba8-4a24b02e2f0c",
   "metadata": {},
   "source": [
    "How many missing values in each column?"
   ]
  },
  {
   "cell_type": "code",
   "execution_count": 3,
   "id": "d6376fc1-0730-45a3-810f-9ba1feeaa89e",
   "metadata": {},
   "outputs": [],
   "source": [
    "# Write code here"
   ]
  },
  {
   "cell_type": "markdown",
   "id": "5bc84118-4bd9-4706-8070-a2aff3509d62",
   "metadata": {},
   "source": [
    "What is the average distance traveled by the taxi trips in this dataset?"
   ]
  },
  {
   "cell_type": "code",
   "execution_count": 4,
   "id": "1e9dc646-7c06-46d8-93a6-ef92a59a89ac",
   "metadata": {},
   "outputs": [],
   "source": [
    "# Write code here"
   ]
  },
  {
   "cell_type": "markdown",
   "id": "df19c12e-a4cf-4248-b6f6-e396d7e3c0ef",
   "metadata": {},
   "source": [
    "Create a histogram to visualize the distribution of distances."
   ]
  },
  {
   "cell_type": "code",
   "execution_count": 5,
   "id": "d0e58e6d-6e25-41e5-8f75-e92e86f766ab",
   "metadata": {},
   "outputs": [],
   "source": [
    "# Write code here"
   ]
  },
  {
   "cell_type": "markdown",
   "id": "f3e13e39-e284-400a-8e85-97459b6700f8",
   "metadata": {},
   "source": [
    "What do notice you about the shape of the distribution given the histogram above?"
   ]
  },
  {
   "cell_type": "markdown",
   "id": "a7ec16d9-8421-4350-9484-4f994bfb3214",
   "metadata": {},
   "source": [
    "Write response here"
   ]
  },
  {
   "cell_type": "markdown",
   "id": "65d794d6-f054-46d6-9d53-351f00a49b0d",
   "metadata": {},
   "source": [
    "Create a scatterplot to visualize total cost of taxi trip over distance traveled."
   ]
  },
  {
   "cell_type": "code",
   "execution_count": 6,
   "id": "d3dcb949-629f-4dec-be4c-e0e366584a7d",
   "metadata": {},
   "outputs": [],
   "source": [
    "# Write code here"
   ]
  },
  {
   "cell_type": "markdown",
   "id": "2f449ee9-832b-475f-81b0-6b1474a48152",
   "metadata": {},
   "source": [
    "What trend do you see in the scatterplot?"
   ]
  },
  {
   "cell_type": "markdown",
   "id": "073d885f-b55e-407c-acb7-1d16f5c350c2",
   "metadata": {},
   "source": [
    "Write response here"
   ]
  },
  {
   "cell_type": "markdown",
   "id": "6577fe89-aa05-4c6c-a5bc-0674e206e2e7",
   "metadata": {},
   "source": [
    "Drop the rows where there is a missing value in the \"payment\" column."
   ]
  },
  {
   "cell_type": "code",
   "execution_count": 7,
   "id": "70d963be-d70c-4451-81e8-7f0743ad5d2c",
   "metadata": {},
   "outputs": [],
   "source": [
    "# Write code here"
   ]
  },
  {
   "cell_type": "markdown",
   "id": "9ef331b8-6ef4-484a-b907-5a2a50e4d6f8",
   "metadata": {},
   "source": [
    "Confirm that there are no missing values in the \"payment\" column now."
   ]
  },
  {
   "cell_type": "code",
   "execution_count": 8,
   "id": "c754fa89-515f-4e33-95e3-504d1364ae4d",
   "metadata": {},
   "outputs": [],
   "source": [
    "# Write code here"
   ]
  },
  {
   "cell_type": "markdown",
   "id": "8236d9c3-a9b6-48a2-bfda-155bcb2bfe32",
   "metadata": {},
   "source": [
    "What are the different forms of payment?"
   ]
  },
  {
   "cell_type": "code",
   "execution_count": 9,
   "id": "21973613-ec9e-4f42-86f4-46de669afdbd",
   "metadata": {},
   "outputs": [],
   "source": [
    "# Write code here"
   ]
  },
  {
   "cell_type": "markdown",
   "id": "a9eeef75-fe06-474b-beb5-52e33ab0eef2",
   "metadata": {},
   "source": [
    "Create a countplot to visualize how many taxi trips were payed for via each form of payment."
   ]
  },
  {
   "cell_type": "code",
   "execution_count": 10,
   "id": "07185334-1be2-4d41-b3d3-17a93ebb90a6",
   "metadata": {},
   "outputs": [],
   "source": [
    "# Write code here"
   ]
  },
  {
   "cell_type": "markdown",
   "id": "69dc31f0-5d02-4f68-9b5c-8ebbba7e99bf",
   "metadata": {},
   "source": [
    "From the visualization, what can you tell about the distribution of taxi trips across payment form?"
   ]
  },
  {
   "cell_type": "markdown",
   "id": "0c853722-7f63-4dad-a8e6-04b9d404d0f9",
   "metadata": {},
   "source": [
    "Write response here"
   ]
  },
  {
   "cell_type": "markdown",
   "id": "19146dad-e0de-4049-adbf-2c21c54ebbb7",
   "metadata": {},
   "source": [
    "How many taxi trips were payed for via each form of payment?"
   ]
  },
  {
   "cell_type": "code",
   "execution_count": 11,
   "id": "ef51cd17-48b5-433a-9bfa-da2b37640249",
   "metadata": {},
   "outputs": [],
   "source": [
    "# Write code here"
   ]
  },
  {
   "cell_type": "markdown",
   "id": "2244e460-607e-43d2-a8fa-0e82bcd56ccf",
   "metadata": {},
   "source": [
    "Drop rows where there is a missing value in the \"pickup_borough\" column."
   ]
  },
  {
   "cell_type": "code",
   "execution_count": 13,
   "id": "cdbbe345-dcb0-45b2-a495-3578e3c2445e",
   "metadata": {},
   "outputs": [],
   "source": [
    "# Write code here"
   ]
  },
  {
   "cell_type": "markdown",
   "id": "bfd484e0-79f3-414c-9f1c-28f9183ac3be",
   "metadata": {},
   "source": [
    "Confirm that there are no missing values in the \"pickup_borough\" column now."
   ]
  },
  {
   "cell_type": "code",
   "execution_count": 14,
   "id": "550a64d7-942e-4038-964a-bcd60177906a",
   "metadata": {},
   "outputs": [],
   "source": [
    "# Write code here"
   ]
  },
  {
   "cell_type": "markdown",
   "id": "07a33db7-e2b7-4c20-a172-c028deffbe11",
   "metadata": {},
   "source": [
    "What are the different boroughs from which taxi pickups occur according to the dataset?"
   ]
  },
  {
   "cell_type": "code",
   "execution_count": 15,
   "id": "9a1e0706-ca45-4bd4-89d5-1f3c0de8591f",
   "metadata": {},
   "outputs": [],
   "source": [
    "# Write code here"
   ]
  },
  {
   "cell_type": "markdown",
   "id": "c66b81ab-b015-4091-ab43-9f3826317d1f",
   "metadata": {},
   "source": [
    "Create a countplot to visualize the distribution of taxi pickups across borough."
   ]
  },
  {
   "cell_type": "code",
   "execution_count": 16,
   "id": "7f30ef37-843f-4e15-b286-b81be4f0c01b",
   "metadata": {},
   "outputs": [],
   "source": [
    "# Write code here"
   ]
  },
  {
   "cell_type": "markdown",
   "id": "27b90607-4439-4362-8391-6f132abdf993",
   "metadata": {},
   "source": [
    "Drop rows where there is a missing value in the \"dropoff_borough\" column."
   ]
  },
  {
   "cell_type": "code",
   "execution_count": 17,
   "id": "b5507d64-3ad5-4d5b-be39-ead5ea569f2d",
   "metadata": {},
   "outputs": [],
   "source": [
    "# Write code here"
   ]
  },
  {
   "cell_type": "markdown",
   "id": "dc0b858e-55c5-44dd-88bc-3a2b624125dc",
   "metadata": {},
   "source": [
    "Confirm that there are no missing values in the \"dropoff_borough\" column now."
   ]
  },
  {
   "cell_type": "code",
   "execution_count": 18,
   "id": "52849059-6a51-42ee-a296-c0acfa617285",
   "metadata": {},
   "outputs": [],
   "source": [
    "# Write code here"
   ]
  },
  {
   "cell_type": "markdown",
   "id": "86b47b9b-8a5a-4052-a882-a0144bce4ee0",
   "metadata": {},
   "source": [
    "How many taxi trips did dropoffs in each borough?"
   ]
  },
  {
   "cell_type": "code",
   "execution_count": 19,
   "id": "88889bf1-efac-4b24-af77-269822f5c6f3",
   "metadata": {},
   "outputs": [],
   "source": [
    "# Write code here"
   ]
  },
  {
   "cell_type": "markdown",
   "id": "a68585f9-5fa6-4798-a9a1-ac9ce208f32f",
   "metadata": {},
   "source": [
    "What are the different boroughs from which taxi dropoffs occur according to the dataset?"
   ]
  },
  {
   "cell_type": "code",
   "execution_count": 20,
   "id": "20ab5510-31f6-4398-9f59-3d7f60c8a001",
   "metadata": {},
   "outputs": [],
   "source": [
    "# Write code here"
   ]
  },
  {
   "cell_type": "markdown",
   "id": "f61e1807-1b51-4741-8545-ab63a16adef1",
   "metadata": {},
   "source": [
    "Create a countplot to visualize the distribution of taxi dropoffs across borough."
   ]
  },
  {
   "cell_type": "code",
   "execution_count": 21,
   "id": "b4ab290b-6bee-4f1e-a904-5be2c0625461",
   "metadata": {},
   "outputs": [],
   "source": [
    "# Write code here"
   ]
  },
  {
   "cell_type": "markdown",
   "id": "89c4f50e-7e57-4ff1-9247-add4e202da7d",
   "metadata": {},
   "source": [
    "How many taxi trips did dropoffs in each borough?"
   ]
  },
  {
   "cell_type": "code",
   "execution_count": 22,
   "id": "060cad73-e727-42a2-97ea-909c18159acc",
   "metadata": {},
   "outputs": [],
   "source": [
    "# Write code here"
   ]
  },
  {
   "cell_type": "markdown",
   "id": "6c55bede-eb3e-4e2b-be9f-51ac2b7a0966",
   "metadata": {},
   "source": [
    "Create a subset that only includes taxi trips that picked up passengers in the Brooklyn borough. "
   ]
  },
  {
   "cell_type": "code",
   "execution_count": 23,
   "id": "19f88225-1c11-41c2-98c5-c538e128e7b2",
   "metadata": {},
   "outputs": [],
   "source": [
    "# Write code here"
   ]
  },
  {
   "cell_type": "markdown",
   "id": "59fc2347-e4b6-4d2e-b2d9-b746738767a9",
   "metadata": {},
   "source": [
    "Take a look at the subset."
   ]
  },
  {
   "cell_type": "code",
   "execution_count": 24,
   "id": "a9f0927e-b2d9-40c7-b9c2-d77cdce19056",
   "metadata": {},
   "outputs": [],
   "source": [
    "# Write code here"
   ]
  },
  {
   "cell_type": "markdown",
   "id": "cd9704d9-a9bb-4f6c-9c48-da545b301afc",
   "metadata": {},
   "source": [
    "How many rows in the subset?"
   ]
  },
  {
   "cell_type": "code",
   "execution_count": 25,
   "id": "530ec249-b16a-48b0-bdda-95d167495e3e",
   "metadata": {},
   "outputs": [],
   "source": [
    "# Write code here"
   ]
  },
  {
   "cell_type": "markdown",
   "id": "b8f2ad79-36a4-49ac-8848-8e3e872fe1f5",
   "metadata": {},
   "source": [
    "How many columns in the subset?"
   ]
  },
  {
   "cell_type": "code",
   "execution_count": 26,
   "id": "ab1e1ef2-c682-4f8b-a8b4-bd539b31d254",
   "metadata": {},
   "outputs": [],
   "source": [
    "# Write code here"
   ]
  },
  {
   "cell_type": "markdown",
   "id": "558c8af7-8a45-42ed-ba8e-e0d7fb8ba823",
   "metadata": {},
   "source": [
    "What are the pickup zones in the pickup borough Brooklyn in order of most taxi trips to least taxi trips, along with the corresponding counts?"
   ]
  },
  {
   "cell_type": "code",
   "execution_count": 27,
   "id": "4f20593d-cbf3-4977-afea-e35c606af4f1",
   "metadata": {},
   "outputs": [],
   "source": [
    "# Write code here"
   ]
  },
  {
   "cell_type": "markdown",
   "id": "0c244cca-538a-46f2-8975-5f1c809c36ea",
   "metadata": {},
   "source": [
    "What are the pickup zones with the 5 highest counts?"
   ]
  },
  {
   "cell_type": "code",
   "execution_count": 28,
   "id": "82f90a84-23b4-498b-ab4b-e8ca8bdedb03",
   "metadata": {},
   "outputs": [],
   "source": [
    "# Write code here"
   ]
  },
  {
   "cell_type": "markdown",
   "id": "b1985c18-32d4-444a-a13b-d75a1e601f54",
   "metadata": {},
   "source": [
    "Create a subset for taxi trips involving pickup in any of the 5 zones identified above."
   ]
  },
  {
   "cell_type": "code",
   "execution_count": 29,
   "id": "513833c2-f4ef-4c3a-8865-aef4aeb172ea",
   "metadata": {},
   "outputs": [],
   "source": [
    "# Write code here"
   ]
  },
  {
   "cell_type": "markdown",
   "id": "f7d13676-5838-4859-a1fd-565adf1c9069",
   "metadata": {},
   "source": [
    "How many rows in this subset?"
   ]
  },
  {
   "cell_type": "code",
   "execution_count": 30,
   "id": "2044422f-e466-4df8-b9d7-ccb709641ae2",
   "metadata": {},
   "outputs": [],
   "source": [
    "# Write code here"
   ]
  },
  {
   "cell_type": "markdown",
   "id": "713b3115-48df-4afa-aa17-6ec4d29276c9",
   "metadata": {},
   "source": [
    "How many columns in this subset?"
   ]
  },
  {
   "cell_type": "code",
   "execution_count": 31,
   "id": "897b8fa2-395e-4a30-8160-57a8189a8394",
   "metadata": {},
   "outputs": [],
   "source": [
    "# Write code here"
   ]
  },
  {
   "cell_type": "markdown",
   "id": "18c42194-96ed-4970-a18d-f7d0b8bfa1d8",
   "metadata": {},
   "source": [
    "Create a countplot to visualize the distribution of taxi trips across the \"top 5\" pickup zones in pickup borough Brooklyn."
   ]
  },
  {
   "cell_type": "code",
   "execution_count": 32,
   "id": "889a8d65-244c-490f-a6ca-0a97a4b6c477",
   "metadata": {},
   "outputs": [],
   "source": [
    "# Write code here"
   ]
  },
  {
   "cell_type": "markdown",
   "id": "d02f7314-5582-42b7-b970-384ed2d7e78a",
   "metadata": {},
   "source": [
    "What is one thing you notice from the barplot above?  "
   ]
  },
  {
   "cell_type": "markdown",
   "id": "c3b86ab9-b2e4-4579-abd2-88f50f4880a7",
   "metadata": {},
   "source": [
    "Write response here"
   ]
  },
  {
   "cell_type": "markdown",
   "id": "84af8682-4981-46d6-aee5-630ce707a349",
   "metadata": {},
   "source": [
    "Create a barplot to visualize the total cost on average across each of the \"top 5\" pickup zones in pickup borough Brooklyn."
   ]
  },
  {
   "cell_type": "code",
   "execution_count": 33,
   "id": "fa468c2a-5f16-474f-95e7-4a76e9ec5466",
   "metadata": {},
   "outputs": [],
   "source": [
    "# Write code here"
   ]
  },
  {
   "cell_type": "markdown",
   "id": "c3dfca33-95c3-4510-8ddf-c4e425c2a539",
   "metadata": {},
   "source": [
    "What is one thing you notice from the barplot above?  "
   ]
  },
  {
   "cell_type": "markdown",
   "id": "1ca88623-2a67-43a9-af1e-7597e9c6fc7b",
   "metadata": {},
   "source": [
    "Write response here"
   ]
  }
 ],
 "metadata": {
  "interpreter": {
   "hash": "a077222d77dfe082b8f1dd562ad70e458ac2ab76993a0b248ab0476e32e9e8dd"
  },
  "kernelspec": {
   "display_name": "Python 3.9.12 ('base')",
   "language": "python",
   "name": "python3"
  },
  "language_info": {
   "codemirror_mode": {
    "name": "ipython",
    "version": 3
   },
   "file_extension": ".py",
   "mimetype": "text/x-python",
   "name": "python",
   "nbconvert_exporter": "python",
   "pygments_lexer": "ipython3",
   "version": "3.9.12"
  }
 },
 "nbformat": 4,
 "nbformat_minor": 5
}
