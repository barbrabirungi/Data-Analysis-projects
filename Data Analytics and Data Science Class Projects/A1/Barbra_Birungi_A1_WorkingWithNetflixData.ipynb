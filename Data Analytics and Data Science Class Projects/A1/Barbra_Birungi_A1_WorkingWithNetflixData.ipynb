{
 "cells": [
  {
   "cell_type": "code",
   "execution_count": 2,
   "metadata": {},
   "outputs": [],
   "source": [
    "import pandas as pd\n",
    "import numpy as np\n",
    "import matplotlib.pyplot as plt\n"
   ]
  },
  {
   "cell_type": "code",
   "execution_count": 3,
   "metadata": {},
   "outputs": [
    {
     "data": {
      "text/html": [
       "<div>\n",
       "<style scoped>\n",
       "    .dataframe tbody tr th:only-of-type {\n",
       "        vertical-align: middle;\n",
       "    }\n",
       "\n",
       "    .dataframe tbody tr th {\n",
       "        vertical-align: top;\n",
       "    }\n",
       "\n",
       "    .dataframe thead th {\n",
       "        text-align: right;\n",
       "    }\n",
       "</style>\n",
       "<table border=\"1\" class=\"dataframe\">\n",
       "  <thead>\n",
       "    <tr style=\"text-align: right;\">\n",
       "      <th></th>\n",
       "      <th>Title</th>\n",
       "      <th>Date</th>\n",
       "    </tr>\n",
       "  </thead>\n",
       "  <tbody>\n",
       "    <tr>\n",
       "      <th>0</th>\n",
       "      <td>Russian Doll: Season 2: Station to Station</td>\n",
       "      <td>5/4/22</td>\n",
       "    </tr>\n",
       "    <tr>\n",
       "      <th>1</th>\n",
       "      <td>Russian Doll: Season 2: Brain Drain</td>\n",
       "      <td>5/3/22</td>\n",
       "    </tr>\n",
       "    <tr>\n",
       "      <th>2</th>\n",
       "      <td>Russian Doll: Season 2: Coney Island Baby</td>\n",
       "      <td>4/26/22</td>\n",
       "    </tr>\n",
       "    <tr>\n",
       "      <th>3</th>\n",
       "      <td>Russian Doll: Season 2: Nowhen</td>\n",
       "      <td>4/26/22</td>\n",
       "    </tr>\n",
       "    <tr>\n",
       "      <th>4</th>\n",
       "      <td>Eternally Confused and Eager for Love: Season ...</td>\n",
       "      <td>4/10/22</td>\n",
       "    </tr>\n",
       "  </tbody>\n",
       "</table>\n",
       "</div>"
      ],
      "text/plain": [
       "                                               Title     Date\n",
       "0         Russian Doll: Season 2: Station to Station   5/4/22\n",
       "1                Russian Doll: Season 2: Brain Drain   5/3/22\n",
       "2          Russian Doll: Season 2: Coney Island Baby  4/26/22\n",
       "3                     Russian Doll: Season 2: Nowhen  4/26/22\n",
       "4  Eternally Confused and Eager for Love: Season ...  4/10/22"
      ]
     },
     "execution_count": 3,
     "metadata": {},
     "output_type": "execute_result"
    }
   ],
   "source": [
    "netflix_data = pd.read_csv('NetflixViewingHistory.csv')\n",
    "netflix_data.head()"
   ]
  },
  {
   "cell_type": "code",
   "execution_count": 4,
   "metadata": {},
   "outputs": [
    {
     "data": {
      "text/plain": [
       "(1972, 2)"
      ]
     },
     "execution_count": 4,
     "metadata": {},
     "output_type": "execute_result"
    }
   ],
   "source": [
    "netflix_data.shape"
   ]
  },
  {
   "cell_type": "code",
   "execution_count": 5,
   "metadata": {},
   "outputs": [
    {
     "data": {
      "text/plain": [
       "1972"
      ]
     },
     "execution_count": 5,
     "metadata": {},
     "output_type": "execute_result"
    }
   ],
   "source": [
    "len(netflix_data)\n",
    "#Or netflix_data.shape[0] for rows\n",
    "#Or netflix_data.shape[1] for columns\n"
   ]
  },
  {
   "cell_type": "code",
   "execution_count": 6,
   "metadata": {},
   "outputs": [
    {
     "data": {
      "text/plain": [
       "0       False\n",
       "1       False\n",
       "2       False\n",
       "3       False\n",
       "4       False\n",
       "        ...  \n",
       "1967    False\n",
       "1968    False\n",
       "1969    False\n",
       "1970    False\n",
       "1971    False\n",
       "Name: Title, Length: 1972, dtype: bool"
      ]
     },
     "execution_count": 6,
     "metadata": {},
     "output_type": "execute_result"
    }
   ],
   "source": [
    "#How many times did you watch an epiosde of the show Grey's Anatomy\n",
    "netflix_data['Title'].apply(lambda title: \"Grey's Anatomy\" in title)"
   ]
  },
  {
   "cell_type": "code",
   "execution_count": 7,
   "metadata": {},
   "outputs": [
    {
     "data": {
      "text/plain": [
       "67"
      ]
     },
     "execution_count": 7,
     "metadata": {},
     "output_type": "execute_result"
    }
   ],
   "source": [
    "netflix_data['Title'].apply(lambda title: \"Grey's Anatomy\" in title).sum()\n",
    "#or sum(netflix_data['Title'].apply(lambda title: \"Grey's Anatomy\" in title))"
   ]
  },
  {
   "cell_type": "code",
   "execution_count": 8,
   "metadata": {},
   "outputs": [
    {
     "data": {
      "text/html": [
       "<div>\n",
       "<style scoped>\n",
       "    .dataframe tbody tr th:only-of-type {\n",
       "        vertical-align: middle;\n",
       "    }\n",
       "\n",
       "    .dataframe tbody tr th {\n",
       "        vertical-align: top;\n",
       "    }\n",
       "\n",
       "    .dataframe thead th {\n",
       "        text-align: right;\n",
       "    }\n",
       "</style>\n",
       "<table border=\"1\" class=\"dataframe\">\n",
       "  <thead>\n",
       "    <tr style=\"text-align: right;\">\n",
       "      <th></th>\n",
       "      <th>Title</th>\n",
       "      <th>Date</th>\n",
       "    </tr>\n",
       "  </thead>\n",
       "  <tbody>\n",
       "    <tr>\n",
       "      <th>406</th>\n",
       "      <td>Grey's Anatomy: Season 15: The Winner Takes It...</td>\n",
       "      <td>2/13/21</td>\n",
       "    </tr>\n",
       "    <tr>\n",
       "      <th>407</th>\n",
       "      <td>Grey's Anatomy: Season 15: Help, I'm Alive</td>\n",
       "      <td>2/13/21</td>\n",
       "    </tr>\n",
       "    <tr>\n",
       "      <th>590</th>\n",
       "      <td>Grey's Anatomy: Season 16: Put on a Happy Face</td>\n",
       "      <td>5/26/20</td>\n",
       "    </tr>\n",
       "    <tr>\n",
       "      <th>594</th>\n",
       "      <td>Grey's Anatomy: Season 16: Sing It Again</td>\n",
       "      <td>5/21/20</td>\n",
       "    </tr>\n",
       "    <tr>\n",
       "      <th>595</th>\n",
       "      <td>Grey's Anatomy: Season 16: Love of My Life</td>\n",
       "      <td>5/21/20</td>\n",
       "    </tr>\n",
       "    <tr>\n",
       "      <th>...</th>\n",
       "      <td>...</td>\n",
       "      <td>...</td>\n",
       "    </tr>\n",
       "    <tr>\n",
       "      <th>1306</th>\n",
       "      <td>Grey's Anatomy: Season 1: A Hard Day's Night</td>\n",
       "      <td>4/8/19</td>\n",
       "    </tr>\n",
       "    <tr>\n",
       "      <th>1631</th>\n",
       "      <td>Grey's Anatomy: Season 14: All of Me</td>\n",
       "      <td>8/20/18</td>\n",
       "    </tr>\n",
       "    <tr>\n",
       "      <th>1632</th>\n",
       "      <td>Grey's Anatomy: Season 14: Cold as Ice</td>\n",
       "      <td>8/20/18</td>\n",
       "    </tr>\n",
       "    <tr>\n",
       "      <th>1633</th>\n",
       "      <td>Grey's Anatomy: Season 14: Fight for Your Mind</td>\n",
       "      <td>8/20/18</td>\n",
       "    </tr>\n",
       "    <tr>\n",
       "      <th>1634</th>\n",
       "      <td>Grey's Anatomy: Season 14: Bad Reputation</td>\n",
       "      <td>8/20/18</td>\n",
       "    </tr>\n",
       "  </tbody>\n",
       "</table>\n",
       "<p>67 rows × 2 columns</p>\n",
       "</div>"
      ],
      "text/plain": [
       "                                                  Title     Date\n",
       "406   Grey's Anatomy: Season 15: The Winner Takes It...  2/13/21\n",
       "407          Grey's Anatomy: Season 15: Help, I'm Alive  2/13/21\n",
       "590      Grey's Anatomy: Season 16: Put on a Happy Face  5/26/20\n",
       "594            Grey's Anatomy: Season 16: Sing It Again  5/21/20\n",
       "595          Grey's Anatomy: Season 16: Love of My Life  5/21/20\n",
       "...                                                 ...      ...\n",
       "1306       Grey's Anatomy: Season 1: A Hard Day's Night   4/8/19\n",
       "1631               Grey's Anatomy: Season 14: All of Me  8/20/18\n",
       "1632             Grey's Anatomy: Season 14: Cold as Ice  8/20/18\n",
       "1633     Grey's Anatomy: Season 14: Fight for Your Mind  8/20/18\n",
       "1634          Grey's Anatomy: Season 14: Bad Reputation  8/20/18\n",
       "\n",
       "[67 rows x 2 columns]"
      ]
     },
     "execution_count": 8,
     "metadata": {},
     "output_type": "execute_result"
    }
   ],
   "source": [
    "#which episodes\n",
    "netflix_data.loc[[\"Grey's Anatomy\" in title for title in netflix_data['Title']],:]"
   ]
  },
  {
   "cell_type": "code",
   "execution_count": 9,
   "metadata": {},
   "outputs": [
    {
     "data": {
      "text/plain": [
       "406     Grey's Anatomy: Season 15: The Winner Takes It...\n",
       "407            Grey's Anatomy: Season 15: Help, I'm Alive\n",
       "590        Grey's Anatomy: Season 16: Put on a Happy Face\n",
       "594              Grey's Anatomy: Season 16: Sing It Again\n",
       "595            Grey's Anatomy: Season 16: Love of My Life\n",
       "                              ...                        \n",
       "1306         Grey's Anatomy: Season 1: A Hard Day's Night\n",
       "1631                 Grey's Anatomy: Season 14: All of Me\n",
       "1632               Grey's Anatomy: Season 14: Cold as Ice\n",
       "1633       Grey's Anatomy: Season 14: Fight for Your Mind\n",
       "1634            Grey's Anatomy: Season 14: Bad Reputation\n",
       "Name: Title, Length: 67, dtype: object"
      ]
     },
     "execution_count": 9,
     "metadata": {},
     "output_type": "execute_result"
    }
   ],
   "source": [
    "netflix_data.loc[[\"Grey's Anatomy\" in title for title in netflix_data['Title']],'Title']"
   ]
  },
  {
   "cell_type": "code",
   "execution_count": 10,
   "metadata": {},
   "outputs": [
    {
     "data": {
      "text/html": [
       "<div>\n",
       "<style scoped>\n",
       "    .dataframe tbody tr th:only-of-type {\n",
       "        vertical-align: middle;\n",
       "    }\n",
       "\n",
       "    .dataframe tbody tr th {\n",
       "        vertical-align: top;\n",
       "    }\n",
       "\n",
       "    .dataframe thead th {\n",
       "        text-align: right;\n",
       "    }\n",
       "</style>\n",
       "<table border=\"1\" class=\"dataframe\">\n",
       "  <thead>\n",
       "    <tr style=\"text-align: right;\">\n",
       "      <th></th>\n",
       "      <th>Title</th>\n",
       "      <th>Date</th>\n",
       "    </tr>\n",
       "  </thead>\n",
       "  <tbody>\n",
       "    <tr>\n",
       "      <th>359</th>\n",
       "      <td>Kim's Convenience: Season 5: Family Business</td>\n",
       "      <td>6/28/21</td>\n",
       "    </tr>\n",
       "    <tr>\n",
       "      <th>360</th>\n",
       "      <td>Kim's Convenience: Season 5: Hugs &amp; Prayers</td>\n",
       "      <td>6/28/21</td>\n",
       "    </tr>\n",
       "    <tr>\n",
       "      <th>361</th>\n",
       "      <td>Kim's Convenience: Season 5: Matchy Matchy</td>\n",
       "      <td>6/28/21</td>\n",
       "    </tr>\n",
       "    <tr>\n",
       "      <th>362</th>\n",
       "      <td>Kim's Convenience: Season 5: Who's Pranking Who?</td>\n",
       "      <td>6/28/21</td>\n",
       "    </tr>\n",
       "    <tr>\n",
       "      <th>363</th>\n",
       "      <td>Kim's Convenience: Season 5: Field of Schemes</td>\n",
       "      <td>6/28/21</td>\n",
       "    </tr>\n",
       "    <tr>\n",
       "      <th>...</th>\n",
       "      <td>...</td>\n",
       "      <td>...</td>\n",
       "    </tr>\n",
       "    <tr>\n",
       "      <th>1529</th>\n",
       "      <td>Kim's Convenience: Season 1: Wingman</td>\n",
       "      <td>11/19/18</td>\n",
       "    </tr>\n",
       "    <tr>\n",
       "      <th>1530</th>\n",
       "      <td>Kim's Convenience: Season 1: Frank &amp; Nayoung</td>\n",
       "      <td>11/19/18</td>\n",
       "    </tr>\n",
       "    <tr>\n",
       "      <th>1531</th>\n",
       "      <td>Kim's Convenience: Season 1: Ddong Chim</td>\n",
       "      <td>11/19/18</td>\n",
       "    </tr>\n",
       "    <tr>\n",
       "      <th>1532</th>\n",
       "      <td>Kim's Convenience: Season 1: Janet's Photos</td>\n",
       "      <td>11/19/18</td>\n",
       "    </tr>\n",
       "    <tr>\n",
       "      <th>1533</th>\n",
       "      <td>Kim's Convenience: Season 1: Gay Discount</td>\n",
       "      <td>11/19/18</td>\n",
       "    </tr>\n",
       "  </tbody>\n",
       "</table>\n",
       "<p>65 rows × 2 columns</p>\n",
       "</div>"
      ],
      "text/plain": [
       "                                                 Title      Date\n",
       "359       Kim's Convenience: Season 5: Family Business   6/28/21\n",
       "360        Kim's Convenience: Season 5: Hugs & Prayers   6/28/21\n",
       "361         Kim's Convenience: Season 5: Matchy Matchy   6/28/21\n",
       "362   Kim's Convenience: Season 5: Who's Pranking Who?   6/28/21\n",
       "363      Kim's Convenience: Season 5: Field of Schemes   6/28/21\n",
       "...                                                ...       ...\n",
       "1529              Kim's Convenience: Season 1: Wingman  11/19/18\n",
       "1530      Kim's Convenience: Season 1: Frank & Nayoung  11/19/18\n",
       "1531           Kim's Convenience: Season 1: Ddong Chim  11/19/18\n",
       "1532       Kim's Convenience: Season 1: Janet's Photos  11/19/18\n",
       "1533         Kim's Convenience: Season 1: Gay Discount  11/19/18\n",
       "\n",
       "[65 rows x 2 columns]"
      ]
     },
     "execution_count": 10,
     "metadata": {},
     "output_type": "execute_result"
    }
   ],
   "source": [
    "#On what date did I last watch the show 'Kim's Convenience'?\n",
    "netflix_data.loc[[\"Kim's Convenience\" in title for title in netflix_data['Title']],:]"
   ]
  },
  {
   "cell_type": "code",
   "execution_count": 11,
   "metadata": {},
   "outputs": [
    {
     "data": {
      "text/html": [
       "<div>\n",
       "<style scoped>\n",
       "    .dataframe tbody tr th:only-of-type {\n",
       "        vertical-align: middle;\n",
       "    }\n",
       "\n",
       "    .dataframe tbody tr th {\n",
       "        vertical-align: top;\n",
       "    }\n",
       "\n",
       "    .dataframe thead th {\n",
       "        text-align: right;\n",
       "    }\n",
       "</style>\n",
       "<table border=\"1\" class=\"dataframe\">\n",
       "  <thead>\n",
       "    <tr style=\"text-align: right;\">\n",
       "      <th></th>\n",
       "      <th>Title</th>\n",
       "      <th>Date</th>\n",
       "    </tr>\n",
       "  </thead>\n",
       "  <tbody>\n",
       "    <tr>\n",
       "      <th>359</th>\n",
       "      <td>Kim's Convenience: Season 5: Family Business</td>\n",
       "      <td>6/28/21</td>\n",
       "    </tr>\n",
       "    <tr>\n",
       "      <th>360</th>\n",
       "      <td>Kim's Convenience: Season 5: Hugs &amp; Prayers</td>\n",
       "      <td>6/28/21</td>\n",
       "    </tr>\n",
       "    <tr>\n",
       "      <th>361</th>\n",
       "      <td>Kim's Convenience: Season 5: Matchy Matchy</td>\n",
       "      <td>6/28/21</td>\n",
       "    </tr>\n",
       "    <tr>\n",
       "      <th>362</th>\n",
       "      <td>Kim's Convenience: Season 5: Who's Pranking Who?</td>\n",
       "      <td>6/28/21</td>\n",
       "    </tr>\n",
       "    <tr>\n",
       "      <th>363</th>\n",
       "      <td>Kim's Convenience: Season 5: Field of Schemes</td>\n",
       "      <td>6/28/21</td>\n",
       "    </tr>\n",
       "    <tr>\n",
       "      <th>...</th>\n",
       "      <td>...</td>\n",
       "      <td>...</td>\n",
       "    </tr>\n",
       "    <tr>\n",
       "      <th>1529</th>\n",
       "      <td>Kim's Convenience: Season 1: Wingman</td>\n",
       "      <td>11/19/18</td>\n",
       "    </tr>\n",
       "    <tr>\n",
       "      <th>1530</th>\n",
       "      <td>Kim's Convenience: Season 1: Frank &amp; Nayoung</td>\n",
       "      <td>11/19/18</td>\n",
       "    </tr>\n",
       "    <tr>\n",
       "      <th>1531</th>\n",
       "      <td>Kim's Convenience: Season 1: Ddong Chim</td>\n",
       "      <td>11/19/18</td>\n",
       "    </tr>\n",
       "    <tr>\n",
       "      <th>1532</th>\n",
       "      <td>Kim's Convenience: Season 1: Janet's Photos</td>\n",
       "      <td>11/19/18</td>\n",
       "    </tr>\n",
       "    <tr>\n",
       "      <th>1533</th>\n",
       "      <td>Kim's Convenience: Season 1: Gay Discount</td>\n",
       "      <td>11/19/18</td>\n",
       "    </tr>\n",
       "  </tbody>\n",
       "</table>\n",
       "<p>65 rows × 2 columns</p>\n",
       "</div>"
      ],
      "text/plain": [
       "                                                 Title      Date\n",
       "359       Kim's Convenience: Season 5: Family Business   6/28/21\n",
       "360        Kim's Convenience: Season 5: Hugs & Prayers   6/28/21\n",
       "361         Kim's Convenience: Season 5: Matchy Matchy   6/28/21\n",
       "362   Kim's Convenience: Season 5: Who's Pranking Who?   6/28/21\n",
       "363      Kim's Convenience: Season 5: Field of Schemes   6/28/21\n",
       "...                                                ...       ...\n",
       "1529              Kim's Convenience: Season 1: Wingman  11/19/18\n",
       "1530      Kim's Convenience: Season 1: Frank & Nayoung  11/19/18\n",
       "1531           Kim's Convenience: Season 1: Ddong Chim  11/19/18\n",
       "1532       Kim's Convenience: Season 1: Janet's Photos  11/19/18\n",
       "1533         Kim's Convenience: Season 1: Gay Discount  11/19/18\n",
       "\n",
       "[65 rows x 2 columns]"
      ]
     },
     "execution_count": 11,
     "metadata": {},
     "output_type": "execute_result"
    }
   ],
   "source": [
    "netflix_data.loc[[\"Kim's Convenience\" in title for title in netflix_data['Title']],:].sort_values('Date', ascending=False)"
   ]
  },
  {
   "cell_type": "code",
   "execution_count": 12,
   "metadata": {},
   "outputs": [
    {
     "data": {
      "text/plain": [
       "Title    Kim's Convenience: Season 5: Family Business\n",
       "Date                                          6/28/21\n",
       "Name: 359, dtype: object"
      ]
     },
     "execution_count": 12,
     "metadata": {},
     "output_type": "execute_result"
    }
   ],
   "source": [
    "netflix_data.loc[[\"Kim's Convenience\" in title for title in netflix_data['Title']],:].sort_values('Date', ascending=False).iloc[0]"
   ]
  },
  {
   "cell_type": "code",
   "execution_count": 13,
   "metadata": {},
   "outputs": [
    {
     "data": {
      "text/plain": [
       "'6/28/21'"
      ]
     },
     "execution_count": 13,
     "metadata": {},
     "output_type": "execute_result"
    }
   ],
   "source": [
    "netflix_data.loc[[\"Kim's Convenience\" in title for title in netflix_data['Title']],:].sort_values('Date')['Date'].iloc[64]"
   ]
  },
  {
   "cell_type": "code",
   "execution_count": 14,
   "metadata": {},
   "outputs": [
    {
     "data": {
      "text/plain": [
       "\"Kim's Convenience: Season 1: Gay Discount\""
      ]
     },
     "execution_count": 14,
     "metadata": {},
     "output_type": "execute_result"
    }
   ],
   "source": [
    "#the last episode of Kims convinience watched\n",
    "netflix_data.loc[[\"Kim's Convenience\" in title for title in netflix_data['Title']],:].sort_values('Date')['Title'].iloc[0]"
   ]
  },
  {
   "cell_type": "code",
   "execution_count": 15,
   "metadata": {},
   "outputs": [
    {
     "data": {
      "text/plain": [
       "359      6/28/21\n",
       "360      6/28/21\n",
       "361      6/28/21\n",
       "362      6/28/21\n",
       "363      6/28/21\n",
       "          ...   \n",
       "1529    11/19/18\n",
       "1530    11/19/18\n",
       "1531    11/19/18\n",
       "1532    11/19/18\n",
       "1533    11/19/18\n",
       "Name: Date, Length: 65, dtype: object"
      ]
     },
     "execution_count": 15,
     "metadata": {},
     "output_type": "execute_result"
    }
   ],
   "source": [
    "netflix_data.loc[[\"Kim's Convenience\" in title for title in netflix_data[\"Title\"]], \"Date\"].sort_values(ascending = False)"
   ]
  },
  {
   "cell_type": "code",
   "execution_count": 16,
   "metadata": {},
   "outputs": [
    {
     "data": {
      "text/plain": [
       "0        True\n",
       "1        True\n",
       "2        True\n",
       "3        True\n",
       "4        True\n",
       "        ...  \n",
       "1967     True\n",
       "1968     True\n",
       "1969     True\n",
       "1970     True\n",
       "1971    False\n",
       "Name: Title, Length: 1972, dtype: bool"
      ]
     },
     "execution_count": 16,
     "metadata": {},
     "output_type": "execute_result"
    }
   ],
   "source": [
    "#percentage of shows and percentage of movies\n",
    "netflix_data[\"Title\"].apply(lambda title: 'Season' in title or 'Chapter' in title)"
   ]
  },
  {
   "cell_type": "code",
   "execution_count": 20,
   "metadata": {},
   "outputs": [
    {
     "data": {
      "text/plain": [
       "90.31440162271805"
      ]
     },
     "execution_count": 20,
     "metadata": {},
     "output_type": "execute_result"
    }
   ],
   "source": [
    "netflix_data[\"Title\"].apply(lambda title: 'Season' in title or 'Chapter' in title).sum() / len(netflix_data[\"Title\"]) * 100"
   ]
  },
  {
   "cell_type": "code",
   "execution_count": 21,
   "metadata": {},
   "outputs": [
    {
     "data": {
      "text/plain": [
       "9.685598377281949"
      ]
     },
     "execution_count": 21,
     "metadata": {},
     "output_type": "execute_result"
    }
   ],
   "source": [
    "#movie percentage\n",
    "show_percent = netflix_data[\"Title\"].apply(lambda title: 'Season' in title or 'Chapter' in title).sum() / len(netflix_data[\"Title\"]) * 100\n",
    "movie_percent = 100 - show_percent\n",
    "movie_percent"
   ]
  },
  {
   "cell_type": "code",
   "execution_count": 24,
   "metadata": {},
   "outputs": [
    {
     "data": {
      "text/plain": [
       "0        True\n",
       "1        True\n",
       "2        True\n",
       "3        True\n",
       "4        True\n",
       "        ...  \n",
       "1967     True\n",
       "1968     True\n",
       "1969     True\n",
       "1970     True\n",
       "1971    False\n",
       "Name: Title, Length: 1972, dtype: bool"
      ]
     },
     "execution_count": 24,
     "metadata": {},
     "output_type": "execute_result"
    }
   ],
   "source": [
    "#or\n",
    "def is_show(title):\n",
    "    return 'Season' in title or 'Chapter' in title\n",
    "\n",
    "netflix_data[\"Title\"].apply(is_show)"
   ]
  },
  {
   "cell_type": "code",
   "execution_count": 29,
   "metadata": {},
   "outputs": [],
   "source": [
    "def contains_keyword(value, keywords):\n",
    "    return any(k in value for k in keywords)"
   ]
  },
  {
   "cell_type": "code",
   "execution_count": 32,
   "metadata": {},
   "outputs": [
    {
     "data": {
      "text/plain": [
       "0        True\n",
       "1        True\n",
       "2        True\n",
       "3        True\n",
       "4        True\n",
       "        ...  \n",
       "1967     True\n",
       "1968     True\n",
       "1969     True\n",
       "1970     True\n",
       "1971    False\n",
       "Name: Title, Length: 1972, dtype: bool"
      ]
     },
     "execution_count": 32,
     "metadata": {},
     "output_type": "execute_result"
    }
   ],
   "source": [
    "netflix_data[\"Title\"].apply(contains_keyword, args=(keywords,))"
   ]
  }
 ],
 "metadata": {
  "interpreter": {
   "hash": "a077222d77dfe082b8f1dd562ad70e458ac2ab76993a0b248ab0476e32e9e8dd"
  },
  "kernelspec": {
   "display_name": "Python 3.9.12 ('base')",
   "language": "python",
   "name": "python3"
  },
  "language_info": {
   "codemirror_mode": {
    "name": "ipython",
    "version": 3
   },
   "file_extension": ".py",
   "mimetype": "text/x-python",
   "name": "python",
   "nbconvert_exporter": "python",
   "pygments_lexer": "ipython3",
   "version": "3.9.12"
  },
  "metadata": {
   "interpreter": {
    "hash": "5d240ba0dc525c389faa33f5dcce5b4f32b6d6aa6d70d6d2dd929bd2b09ab69f"
   }
  },
  "orig_nbformat": 2
 },
 "nbformat": 4,
 "nbformat_minor": 2
}
